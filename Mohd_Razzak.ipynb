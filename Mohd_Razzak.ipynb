{
  "nbformat": 4,
  "nbformat_minor": 0,
  "metadata": {
    "colab": {
      "provenance": []
    },
    "kernelspec": {
      "name": "python3",
      "display_name": "Python 3"
    },
    "language_info": {
      "name": "python"
    }
  },
  "cells": [
    {
      "cell_type": "code",
      "execution_count": null,
      "metadata": {
        "id": "iww7NCdwjGIa"
      },
      "outputs": [],
      "source": [
        "#---------------------------------@DevTown------------------------------------------------------\n",
        "#-----------------PYTHON FOR BEGINNER_BOOTCAMP_07DAYS_FINAL_PROJECT--------------------------------\n",
        "#-----MOHD RAZZAK------------------------------------------------"
      ]
    },
    {
      "cell_type": "code",
      "source": [
        "\n",
        "import time\n",
        "import webbrowser\n",
        "import datetime"
      ],
      "metadata": {
        "id": "HWyFgmusjmV_"
      },
      "execution_count": null,
      "outputs": []
    },
    {
      "cell_type": "code",
      "source": [
        "                             #note google colab take a long time to execute this program so i will not run this program on google colab \n",
        "start = time.time()\n",
        "\n",
        "# now here  we will use logic :~day is 24 hours and take a break every 2 hours\n",
        "# it mean entire loops runnning only 12 times in 24 hours a day.\n",
        "loop_limits = 12  # it indicate total loops or break for 24 hours in every 2 hours time delay\n",
        "delay_time = 7200 # it indicate seconds    for   every 2 hours\n",
        "\n",
        "for i in range(loop_limits):\n",
        "    initial_counter = time.time()\n",
        "    now = datetime.datetime.now() # it showing exact  time  for each loops\n",
        "    dt = now.strftime(\"%d/%m/%Y %H:%M:%S \") # for open in same browser window\n",
        "    wb = webbrowser.open(\"https://amitness.com/shuffle/\", new=0)  #  here this website ' https://amitness.com/shuffle/'  play random song on every 2 hours interval\n",
        "    print(f\"webrowser is open on  time {dt} \")\n",
        "    time.sleep(delay_time)\n",
        "    final_counter = time.time()\n",
        "   \n",
        "    looping_time = (final_counter-initial_counter)  # its indicate   total  execution time  for  each loops\n",
        "\n",
        "    print(\"time is taken for execution of each loop  is {}\".format(looping_time))\n",
        "\n",
        "end = time.time()\n",
        "total_time = (end-start)\n",
        "print(\"total time is taken for execution of entire  program is {}\".format( total_time))  # its indicate   total  execution time  for entire process"
      ],
      "metadata": {
        "id": "pqgI9Rccj0pl"
      },
      "execution_count": null,
      "outputs": []
    }
  ]
}